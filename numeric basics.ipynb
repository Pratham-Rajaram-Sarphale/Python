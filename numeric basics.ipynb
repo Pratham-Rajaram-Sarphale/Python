{
 "cells": [
  {
   "cell_type": "code",
   "execution_count": 1,
   "id": "7cf16aaa",
   "metadata": {},
   "outputs": [
    {
     "name": "stdout",
     "output_type": "stream",
     "text": [
      "Roll number is: 54\n",
      "<class 'int'>\n",
      "54\n",
      "<class 'int'>\n"
     ]
    }
   ],
   "source": [
    "roll_no = 54\n",
    "# display roll no\n",
    "print(\"Roll number is:\", roll_no) # 54\n",
    "print(type(roll_no)) # class 'int'\n",
    "# create integer using int() class\n",
    "id = int(54)\n",
    "print(id) # 25\n",
    "print(type(id)) "
   ]
  },
  {
   "cell_type": "code",
   "execution_count": 2,
   "id": "c6ba9360",
   "metadata": {},
   "outputs": [
    {
     "name": "stdout",
     "output_type": "stream",
     "text": [
      "<class 'int'>\n",
      "<class 'float'>\n"
     ]
    }
   ],
   "source": [
    "#data types\n",
    "x=-9999\n",
    "y=99.99\n",
    "print(type(x))\n",
    "print(type(y))"
   ]
  },
  {
   "cell_type": "code",
   "execution_count": 3,
   "id": "b9732b70",
   "metadata": {},
   "outputs": [
    {
     "data": {
      "text/plain": [
       "(7.03+0j)"
      ]
     },
     "execution_count": 3,
     "metadata": {},
     "output_type": "execute_result"
    }
   ],
   "source": [
    "#A Python complex number is one having a real and imaginary parts.\n",
    "#Python provides a separate module called cmath with functions, especially for these comple\n",
    "complex(7.03)"
   ]
  },
  {
   "cell_type": "code",
   "execution_count": 4,
   "id": "458f17b1",
   "metadata": {},
   "outputs": [
    {
     "data": {
      "text/plain": [
       "(1-2j)"
      ]
     },
     "execution_count": 4,
     "metadata": {},
     "output_type": "execute_result"
    }
   ],
   "source": [
    "complex(1,-2)"
   ]
  },
  {
   "cell_type": "code",
   "execution_count": 5,
   "id": "f7373a2d",
   "metadata": {},
   "outputs": [
    {
     "name": "stdout",
     "output_type": "stream",
     "text": [
      "1.0\n",
      "2\n",
      "(1+0j)\n",
      "<class 'float'>\n",
      "<class 'int'>\n",
      "<class 'complex'>\n"
     ]
    }
   ],
   "source": [
    "x = 1 # int\n",
    "y = 2.8 # float\n",
    "z = 1j # complex\n",
    "#convert from int to float:\n",
    "a = float(x)\n",
    "#convert from float to int:\n",
    "b = int(y)\n",
    "#convert from int to complex:\n",
    "c = complex(x)\n",
    "print(a)\n",
    "print(b)\n",
    "print(c)\n",
    "print(type(a))\n",
    "print(type(b))\n",
    "print(type(c))"
   ]
  },
  {
   "cell_type": "code",
   "execution_count": 6,
   "id": "4cec3a19",
   "metadata": {},
   "outputs": [
    {
     "name": "stdout",
     "output_type": "stream",
     "text": [
      "in binary form:: 0b10101\n",
      "in octal form:: 0o25\n",
      "in hexa decimal form :: 0x15\n"
     ]
    }
   ],
   "source": [
    "i = 21\n",
    "print(\"in binary form::\", bin(i))\n",
    "print(\"in octal form::\", oct(i))\n",
    "print(\"in hexa decimal form ::\", hex(i))"
   ]
  },
  {
   "cell_type": "code",
   "execution_count": 7,
   "id": "87fff2b4",
   "metadata": {},
   "outputs": [
    {
     "name": "stdout",
     "output_type": "stream",
     "text": [
      "<class 'int'>\n",
      "<class 'float'>\n",
      "<class 'float'>\n"
     ]
    }
   ],
   "source": [
    "x = 99\n",
    "y = 1.111\n",
    "#data in int and float\n",
    "print(type(x))\n",
    "print(type(y))\n",
    "#addition\n",
    "z = x+y\n",
    "#type after addition\n",
    "print(type(z))"
   ]
  },
  {
   "cell_type": "code",
   "execution_count": 8,
   "id": "93fd0614",
   "metadata": {},
   "outputs": [
    {
     "data": {
      "text/plain": [
       "123"
      ]
     },
     "execution_count": 8,
     "metadata": {},
     "output_type": "execute_result"
    }
   ],
   "source": [
    "int(123.654)"
   ]
  },
  {
   "cell_type": "code",
   "execution_count": 9,
   "id": "8bfe69c9",
   "metadata": {},
   "outputs": [
    {
     "data": {
      "text/plain": [
       "10"
      ]
     },
     "execution_count": 9,
     "metadata": {},
     "output_type": "execute_result"
    }
   ],
   "source": [
    "int(\"10\")"
   ]
  },
  {
   "cell_type": "code",
   "execution_count": 10,
   "id": "c40447aa",
   "metadata": {},
   "outputs": [
    {
     "ename": "ValueError",
     "evalue": "invalid literal for int() with base 10: '10.5'",
     "output_type": "error",
     "traceback": [
      "\u001b[1;31m---------------------------------------------------------------------------\u001b[0m",
      "\u001b[1;31mValueError\u001b[0m                                Traceback (most recent call last)",
      "\u001b[1;32mC:\\Users\\PRATHA~1.SAR\\AppData\\Local\\Temp/ipykernel_22112/864341924.py\u001b[0m in \u001b[0;36m<module>\u001b[1;34m\u001b[0m\n\u001b[1;32m----> 1\u001b[1;33m \u001b[0mint\u001b[0m\u001b[1;33m(\u001b[0m\u001b[1;34m\"10.5\"\u001b[0m\u001b[1;33m)\u001b[0m\u001b[1;33m\u001b[0m\u001b[1;33m\u001b[0m\u001b[0m\n\u001b[0m",
      "\u001b[1;31mValueError\u001b[0m: invalid literal for int() with base 10: '10.5'"
     ]
    }
   ],
   "source": [
    "#you cant convert a float string value to int\n",
    "int(\"10.5\")"
   ]
  },
  {
   "cell_type": "code",
   "execution_count": 11,
   "id": "3bb21ef0",
   "metadata": {},
   "outputs": [
    {
     "ename": "ValueError",
     "evalue": "invalid literal for int() with base 10: 'ten'",
     "output_type": "error",
     "traceback": [
      "\u001b[1;31m---------------------------------------------------------------------------\u001b[0m",
      "\u001b[1;31mValueError\u001b[0m                                Traceback (most recent call last)",
      "\u001b[1;32mC:\\Users\\PRATHA~1.SAR\\AppData\\Local\\Temp/ipykernel_22112/739781353.py\u001b[0m in \u001b[0;36m<module>\u001b[1;34m\u001b[0m\n\u001b[0;32m      1\u001b[0m \u001b[1;31m#you cant convert characters to string\u001b[0m\u001b[1;33m\u001b[0m\u001b[1;33m\u001b[0m\u001b[0m\n\u001b[1;32m----> 2\u001b[1;33m \u001b[0mint\u001b[0m\u001b[1;33m(\u001b[0m\u001b[1;34m\"ten\"\u001b[0m\u001b[1;33m)\u001b[0m\u001b[1;33m\u001b[0m\u001b[1;33m\u001b[0m\u001b[0m\n\u001b[0m",
      "\u001b[1;31mValueError\u001b[0m: invalid literal for int() with base 10: 'ten'"
     ]
    }
   ],
   "source": [
    "#you cant convert characters to string\n",
    "int(\"ten\")"
   ]
  },
  {
   "cell_type": "code",
   "execution_count": 12,
   "id": "6926f191",
   "metadata": {},
   "outputs": [
    {
     "name": "stdout",
     "output_type": "stream",
     "text": [
      "apple99\n"
     ]
    }
   ],
   "source": [
    "#concatenating int and str types\n",
    "i = 99\n",
    "s = \"apple\"\n",
    "print(s+str(i))"
   ]
  },
  {
   "cell_type": "code",
   "execution_count": 13,
   "id": "f19f6eeb",
   "metadata": {},
   "outputs": [
    {
     "name": "stdout",
     "output_type": "stream",
     "text": [
      "6\n"
     ]
    }
   ],
   "source": [
    "import random\n",
    "# prints a random value from the list\n",
    "list1 = [1, 2, 3, 4, 5, 6]\n",
    "print(random.choice(list1))"
   ]
  },
  {
   "cell_type": "code",
   "execution_count": 14,
   "id": "a9bf4712",
   "metadata": {},
   "outputs": [
    {
     "name": "stdout",
     "output_type": "stream",
     "text": [
      "A random number from list is : 10\n"
     ]
    }
   ],
   "source": [
    "import random\n",
    "# using choice() to generate a random number from a\n",
    "# given list of numbers.\n",
    "print(\"A random number from list is : \", end=\"\")\n",
    "print(random.choice([1, 4, 8, 10, 3]))"
   ]
  },
  {
   "cell_type": "code",
   "execution_count": 15,
   "id": "735a01eb",
   "metadata": {},
   "outputs": [
    {
     "name": "stdout",
     "output_type": "stream",
     "text": [
      "The random number from range is : 41\n"
     ]
    }
   ],
   "source": [
    "print(\"The random number from range is : \", end=\"\")\n",
    "print(random.randrange(20, 50, 3))"
   ]
  }
 ],
 "metadata": {
  "kernelspec": {
   "display_name": "Python 3 (ipykernel)",
   "language": "python",
   "name": "python3"
  },
  "language_info": {
   "codemirror_mode": {
    "name": "ipython",
    "version": 3
   },
   "file_extension": ".py",
   "mimetype": "text/x-python",
   "name": "python",
   "nbconvert_exporter": "python",
   "pygments_lexer": "ipython3",
   "version": "3.9.7"
  }
 },
 "nbformat": 4,
 "nbformat_minor": 5
}
