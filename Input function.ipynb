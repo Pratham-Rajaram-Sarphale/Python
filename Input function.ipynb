{
 "cells": [
  {
   "cell_type": "code",
   "execution_count": 1,
   "id": "2b6ffbf6",
   "metadata": {},
   "outputs": [
    {
     "name": "stdout",
     "output_type": "stream",
     "text": [
      "Enter Name:your name\n",
      "My name is your name\n"
     ]
    }
   ],
   "source": [
    "#Using the input function we are able to get the necessary user information\n",
    "my_name = input(\"Enter Name:\")\n",
    "print(\"My name is\", my_name)"
   ]
  },
  {
   "cell_type": "code",
   "execution_count": 2,
   "id": "f89b907c",
   "metadata": {},
   "outputs": [
    {
     "name": "stdout",
     "output_type": "stream",
     "text": [
      "Enter Number:xyz0009989\n",
      "Number is xyz0009989\n"
     ]
    }
   ],
   "source": [
    "my_number = input(\"Enter Number:\")\n",
    "print(\"Number is\", my_number)"
   ]
  },
  {
   "cell_type": "code",
   "execution_count": 3,
   "id": "23a2cc37",
   "metadata": {},
   "outputs": [
    {
     "name": "stdout",
     "output_type": "stream",
     "text": [
      "<class 'str'>\n"
     ]
    }
   ],
   "source": [
    "print(type(my_number))"
   ]
  },
  {
   "cell_type": "code",
   "execution_count": 4,
   "id": "b82a183f",
   "metadata": {},
   "outputs": [
    {
     "name": "stdout",
     "output_type": "stream",
     "text": [
      "<class 'str'>\n"
     ]
    }
   ],
   "source": [
    "print(type(my_number))"
   ]
  },
  {
   "cell_type": "code",
   "execution_count": 6,
   "id": "a00ce6c7",
   "metadata": {},
   "outputs": [
    {
     "name": "stdout",
     "output_type": "stream",
     "text": [
      "<class 'str'>\n"
     ]
    }
   ],
   "source": [
    "print(type(my_number))"
   ]
  },
  {
   "cell_type": "code",
   "execution_count": 7,
   "id": "0c7422ec",
   "metadata": {},
   "outputs": [
    {
     "name": "stdout",
     "output_type": "stream",
     "text": [
      "Enter Number:30001212\n",
      "Number is 30001212\n"
     ]
    }
   ],
   "source": [
    "my_number = int(input(\"Enter Number:\"))\n",
    "print(\"Number is\", my_number)"
   ]
  },
  {
   "cell_type": "code",
   "execution_count": 8,
   "id": "1d86212d",
   "metadata": {},
   "outputs": [
    {
     "name": "stdout",
     "output_type": "stream",
     "text": [
      "<class 'int'>\n"
     ]
    }
   ],
   "source": [
    "print(type(my_number))"
   ]
  }
 ],
 "metadata": {
  "kernelspec": {
   "display_name": "Python 3 (ipykernel)",
   "language": "python",
   "name": "python3"
  },
  "language_info": {
   "codemirror_mode": {
    "name": "ipython",
    "version": 3
   },
   "file_extension": ".py",
   "mimetype": "text/x-python",
   "name": "python",
   "nbconvert_exporter": "python",
   "pygments_lexer": "ipython3",
   "version": "3.9.7"
  }
 },
 "nbformat": 4,
 "nbformat_minor": 5
}
