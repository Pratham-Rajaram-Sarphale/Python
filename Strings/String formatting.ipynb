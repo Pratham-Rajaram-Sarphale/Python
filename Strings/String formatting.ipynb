{
 "cells": [
  {
   "cell_type": "code",
   "execution_count": 12,
   "id": "b0a342ed",
   "metadata": {},
   "outputs": [
    {
     "name": "stdout",
     "output_type": "stream",
     "text": [
      "nothing just okay\n"
     ]
    }
   ],
   "source": [
    "print(\"nothing just %s\"%'okay')"
   ]
  },
  {
   "cell_type": "code",
   "execution_count": 22,
   "id": "47487798",
   "metadata": {},
   "outputs": [
    {
     "name": "stdout",
     "output_type": "stream",
     "text": [
      "while walking misha fell down\n"
     ]
    }
   ],
   "source": [
    "print(\"while %s misha %s down\"%('walking','fell'))"
   ]
  },
  {
   "cell_type": "code",
   "execution_count": 11,
   "id": "be0e6f65",
   "metadata": {
    "scrolled": true
   },
   "outputs": [
    {
     "name": "stdout",
     "output_type": "stream",
     "text": [
      "1,2 buckle my shoe\n"
     ]
    }
   ],
   "source": [
    "print(\"%d,%d buckle my shoe\"%(1,2))"
   ]
  },
  {
   "cell_type": "code",
   "execution_count": 21,
   "id": "ba35183e",
   "metadata": {},
   "outputs": [
    {
     "name": "stdout",
     "output_type": "stream",
     "text": [
      "there are 4 dogs roaming around\n"
     ]
    }
   ],
   "source": [
    "print('there are %d %s roaming around'%(4,'dogs'))"
   ]
  },
  {
   "cell_type": "code",
   "execution_count": 2,
   "id": "4a2db631",
   "metadata": {},
   "outputs": [
    {
     "name": "stdout",
     "output_type": "stream",
     "text": [
      "we all are equal.\n"
     ]
    }
   ],
   "source": [
    "print('we all are {}.'.format('equal'))"
   ]
  },
  {
   "cell_type": "code",
   "execution_count": 5,
   "id": "c6620a04",
   "metadata": {},
   "outputs": [
    {
     "name": "stdout",
     "output_type": "stream",
     "text": [
      "read the directions.\n"
     ]
    }
   ],
   "source": [
    "print(\"{1} {0} {2}.\".format('the','read','directions'))"
   ]
  },
  {
   "cell_type": "code",
   "execution_count": 8,
   "id": "99238791",
   "metadata": {},
   "outputs": [
    {
     "name": "stdout",
     "output_type": "stream",
     "text": [
      "a:one, b:2, c:three\n"
     ]
    }
   ],
   "source": [
    "print('a:{a}, b:{b}, c:{c}'.format(a='one',b=2,c='three'))"
   ]
  },
  {
   "cell_type": "code",
   "execution_count": 10,
   "id": "a888b2ad",
   "metadata": {},
   "outputs": [
    {
     "name": "stdout",
     "output_type": "stream",
     "text": [
      "the first visual was alright but the second visual and visual wasn't\n"
     ]
    }
   ],
   "source": [
    "print(\"the first {a} was alright but the second {a} and {a} wasn't\".format(a='visual'))"
   ]
  },
  {
   "cell_type": "code",
   "execution_count": 1,
   "id": "77e53b75",
   "metadata": {},
   "outputs": [
    {
     "name": "stdout",
     "output_type": "stream",
     "text": [
      "the value of pi is 3.14159\n",
      "the value of pi is: 3.14100\n"
     ]
    }
   ],
   "source": [
    "#syntax: {[index]:[width][.precision][type]}\n",
    "print('the value of pi is%8.5f'%3.14159)\n",
    "print('the value of pi is: {0:1.5f}'.format(3.141))"
   ]
  }
 ],
 "metadata": {
  "kernelspec": {
   "display_name": "Python 3 (ipykernel)",
   "language": "python",
   "name": "python3"
  },
  "language_info": {
   "codemirror_mode": {
    "name": "ipython",
    "version": 3
   },
   "file_extension": ".py",
   "mimetype": "text/x-python",
   "name": "python",
   "nbconvert_exporter": "python",
   "pygments_lexer": "ipython3",
   "version": "3.9.7"
  }
 },
 "nbformat": 4,
 "nbformat_minor": 5
}
