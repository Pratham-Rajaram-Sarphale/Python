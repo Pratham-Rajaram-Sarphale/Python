{
 "cells": [
  {
   "cell_type": "code",
   "execution_count": 1,
   "id": "9068ff93",
   "metadata": {},
   "outputs": [
    {
     "name": "stdout",
     "output_type": "stream",
     "text": [
      "Simply a python string\n"
     ]
    }
   ],
   "source": [
    "a='Simply a python string'\n",
    "print(a)"
   ]
  },
  {
   "cell_type": "code",
   "execution_count": 2,
   "id": "0e9f8c77",
   "metadata": {},
   "outputs": [
    {
     "data": {
      "text/plain": [
       "22"
      ]
     },
     "execution_count": 2,
     "metadata": {},
     "output_type": "execute_result"
    }
   ],
   "source": [
    "len(a)"
   ]
  },
  {
   "cell_type": "code",
   "execution_count": 3,
   "id": "3e7c86d2",
   "metadata": {},
   "outputs": [
    {
     "name": "stdout",
     "output_type": "stream",
     "text": [
      "Simply a python string\n"
     ]
    }
   ],
   "source": [
    "b='Simply a python string'\n",
    "print(b)\n"
   ]
  },
  {
   "cell_type": "code",
   "execution_count": 4,
   "id": "23c83bb9",
   "metadata": {},
   "outputs": [
    {
     "name": "stdout",
     "output_type": "stream",
     "text": [
      "This is \n",
      "the first\n",
      "Multi-line string.\n",
      "\n"
     ]
    }
   ],
   "source": [
    "#Multi-line strings must be embed in triple quotes, as shown below.\n",
    "a='''This is \n",
    "the first\n",
    "Multi-line string.\n",
    "'''\n",
    "print(a)"
   ]
  },
  {
   "cell_type": "code",
   "execution_count": 5,
   "id": "4183be8a",
   "metadata": {},
   "outputs": [
    {
     "name": "stdout",
     "output_type": "stream",
     "text": [
      "This is\n",
      "the second\n",
      "Multi-line\n",
      "string.\n"
     ]
    }
   ],
   "source": [
    "e=\"\"\"This is\n",
    "the second\n",
    "Multi-line\n",
    "string.\"\"\"\n",
    "print(e)"
   ]
  },
  {
   "cell_type": "code",
   "execution_count": 6,
   "id": "37e502bc",
   "metadata": {},
   "outputs": [
    {
     "name": "stdout",
     "output_type": "stream",
     "text": [
      "A warm welcome to the programming world\n"
     ]
    }
   ],
   "source": [
    "b=\"A warm welcome to the programming world\"\n",
    "print(b)"
   ]
  },
  {
   "cell_type": "code",
   "execution_count": 7,
   "id": "6d1cd72c",
   "metadata": {},
   "outputs": [
    {
     "data": {
      "text/plain": [
       "5"
      ]
     },
     "execution_count": 7,
     "metadata": {},
     "output_type": "execute_result"
    }
   ],
   "source": [
    "greet='Hello'\n",
    "len(greet)"
   ]
  },
  {
   "cell_type": "code",
   "execution_count": 8,
   "id": "45feccf3",
   "metadata": {},
   "outputs": [
    {
     "data": {
      "text/plain": [
       "'h'"
      ]
     },
     "execution_count": 8,
     "metadata": {},
     "output_type": "execute_result"
    }
   ],
   "source": [
    "#positive indexing\n",
    "greet='hello'\n",
    "greet[0]"
   ]
  },
  {
   "cell_type": "code",
   "execution_count": 9,
   "id": "f49bd5d8",
   "metadata": {},
   "outputs": [
    {
     "data": {
      "text/plain": [
       "'h'"
      ]
     },
     "execution_count": 9,
     "metadata": {},
     "output_type": "execute_result"
    }
   ],
   "source": [
    "#negative indexing\n",
    "greet='hello'\n",
    "greet[-5]"
   ]
  },
  {
   "cell_type": "code",
   "execution_count": 10,
   "id": "aefc2587",
   "metadata": {},
   "outputs": [
    {
     "data": {
      "text/plain": [
       "'if we search for any value which is out of the string boundary index,\\nthen it will show an index error'"
      ]
     },
     "execution_count": 10,
     "metadata": {},
     "output_type": "execute_result"
    }
   ],
   "source": [
    "'''if we search for any value which is out of the string boundary index,\n",
    "then it will show an index error'''"
   ]
  },
  {
   "cell_type": "code",
   "execution_count": 11,
   "id": "97271644",
   "metadata": {},
   "outputs": [],
   "source": [
    "#Strings are immutable so its not possible to make changes in them."
   ]
  },
  {
   "cell_type": "code",
   "execution_count": 12,
   "id": "349c06bf",
   "metadata": {},
   "outputs": [
    {
     "data": {
      "text/plain": [
       "str"
      ]
     },
     "execution_count": 12,
     "metadata": {},
     "output_type": "execute_result"
    }
   ],
   "source": [
    "greet='hello'\n",
    "type(greet)"
   ]
  },
  {
   "cell_type": "code",
   "execution_count": 13,
   "id": "e650480d",
   "metadata": {},
   "outputs": [
    {
     "data": {
      "text/plain": [
       "'m'"
      ]
     },
     "execution_count": 13,
     "metadata": {},
     "output_type": "execute_result"
    }
   ],
   "source": [
    "b=\"A warm welcome to the programming world\"\n",
    "b[-10]"
   ]
  },
  {
   "cell_type": "code",
   "execution_count": 14,
   "id": "dee35afc",
   "metadata": {},
   "outputs": [
    {
     "data": {
      "text/plain": [
       "'ello'"
      ]
     },
     "execution_count": 14,
     "metadata": {},
     "output_type": "execute_result"
    }
   ],
   "source": [
    "greet[1:5]"
   ]
  },
  {
   "cell_type": "code",
   "execution_count": 15,
   "id": "f74f0801",
   "metadata": {},
   "outputs": [
    {
     "data": {
      "text/plain": [
       "'A warm '"
      ]
     },
     "execution_count": 15,
     "metadata": {},
     "output_type": "execute_result"
    }
   ],
   "source": [
    "b[0:7]"
   ]
  },
  {
   "cell_type": "code",
   "execution_count": 16,
   "id": "bafda85b",
   "metadata": {},
   "outputs": [
    {
     "data": {
      "text/plain": [
       "'rm we'"
      ]
     },
     "execution_count": 16,
     "metadata": {},
     "output_type": "execute_result"
    }
   ],
   "source": [
    "b[4:9]"
   ]
  },
  {
   "cell_type": "code",
   "execution_count": 17,
   "id": "edaff283",
   "metadata": {},
   "outputs": [
    {
     "data": {
      "text/plain": [
       "' warm welcome to the programming worl'"
      ]
     },
     "execution_count": 17,
     "metadata": {},
     "output_type": "execute_result"
    }
   ],
   "source": [
    "b[1:-1]"
   ]
  },
  {
   "cell_type": "code",
   "execution_count": 18,
   "id": "9d3b964a",
   "metadata": {},
   "outputs": [
    {
     "data": {
      "text/plain": [
       "''"
      ]
     },
     "execution_count": 18,
     "metadata": {},
     "output_type": "execute_result"
    }
   ],
   "source": [
    "b[-1:1]"
   ]
  },
  {
   "cell_type": "code",
   "execution_count": 19,
   "id": "be2ba7a0",
   "metadata": {},
   "outputs": [
    {
     "data": {
      "text/plain": [
       "' amw'"
      ]
     },
     "execution_count": 19,
     "metadata": {},
     "output_type": "execute_result"
    }
   ],
   "source": [
    "b=\"A warm welcome to the programming world\"\n",
    "b[1:8:2]"
   ]
  },
  {
   "cell_type": "code",
   "execution_count": 20,
   "id": "57ca2e29",
   "metadata": {},
   "outputs": [
    {
     "data": {
      "text/plain": [
       "'d'"
      ]
     },
     "execution_count": 20,
     "metadata": {},
     "output_type": "execute_result"
    }
   ],
   "source": [
    "b[-1:]"
   ]
  },
  {
   "cell_type": "code",
   "execution_count": 21,
   "id": "219f067a",
   "metadata": {},
   "outputs": [
    {
     "data": {
      "text/plain": [
       "39"
      ]
     },
     "execution_count": 21,
     "metadata": {},
     "output_type": "execute_result"
    }
   ],
   "source": [
    "b=\"A warm welcome to the programming world\"\n",
    "len(b)"
   ]
  },
  {
   "cell_type": "code",
   "execution_count": 22,
   "id": "c967ceab",
   "metadata": {},
   "outputs": [],
   "source": [
    "i=1"
   ]
  },
  {
   "cell_type": "code",
   "execution_count": 23,
   "id": "730ada5b",
   "metadata": {},
   "outputs": [
    {
     "data": {
      "text/plain": [
       "'dlrow gnimmargorp eht ot emoclew mraw A'"
      ]
     },
     "execution_count": 23,
     "metadata": {},
     "output_type": "execute_result"
    }
   ],
   "source": [
    "b[-1::-1]"
   ]
  },
  {
   "cell_type": "code",
   "execution_count": 24,
   "id": "02afa483",
   "metadata": {},
   "outputs": [
    {
     "data": {
      "text/plain": [
       "'rwg'"
      ]
     },
     "execution_count": 24,
     "metadata": {},
     "output_type": "execute_result"
    }
   ],
   "source": [
    "b[-3:-8:-2]"
   ]
  }
 ],
 "metadata": {
  "kernelspec": {
   "display_name": "Python 3 (ipykernel)",
   "language": "python",
   "name": "python3"
  },
  "language_info": {
   "codemirror_mode": {
    "name": "ipython",
    "version": 3
   },
   "file_extension": ".py",
   "mimetype": "text/x-python",
   "name": "python",
   "nbconvert_exporter": "python",
   "pygments_lexer": "ipython3",
   "version": "3.9.7"
  }
 },
 "nbformat": 4,
 "nbformat_minor": 5
}
