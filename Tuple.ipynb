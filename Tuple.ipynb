{
 "cells": [
  {
   "cell_type": "markdown",
   "id": "5b93f1cc",
   "metadata": {},
   "source": [
    "# Tuple \n",
    "characteristics:-\n",
    "1.Ordered\n",
    "2.Heterogenous\n",
    "3.Immutable\n",
    "4.Duplicates"
   ]
  },
  {
   "cell_type": "code",
   "execution_count": 1,
   "id": "a65826da",
   "metadata": {},
   "outputs": [
    {
     "name": "stdout",
     "output_type": "stream",
     "text": [
      "(1, 2, 3, 4)\n",
      "(1, 2, 3, 4)\n"
     ]
    }
   ],
   "source": [
    "#creating tuple using ()\n",
    "tup1=(1,2,3,4)\n",
    "print(tup1)\n",
    "#creating tuple using constructor(())\n",
    "tup1=tuple((1,2,3,4))\n",
    "print(tup1)"
   ]
  },
  {
   "cell_type": "code",
   "execution_count": 3,
   "id": "8eeb6afc",
   "metadata": {},
   "outputs": [
    {
     "name": "stdout",
     "output_type": "stream",
     "text": [
      "2\n",
      "4\n",
      "(1, 'var', True, {}, 1.01, [1, 2], 1)\n"
     ]
    },
    {
     "ename": "AttributeError",
     "evalue": "'tuple' object has no attribute 'append'",
     "output_type": "error",
     "traceback": [
      "\u001b[1;31m---------------------------------------------------------------------------\u001b[0m",
      "\u001b[1;31mAttributeError\u001b[0m                            Traceback (most recent call last)",
      "\u001b[1;32mC:\\Users\\PRATHA~1.SAR\\AppData\\Local\\Temp/ipykernel_15292/1319542156.py\u001b[0m in \u001b[0;36m<module>\u001b[1;34m\u001b[0m\n\u001b[0;32m      7\u001b[0m \u001b[1;31m#Immutable\u001b[0m\u001b[1;33m\u001b[0m\u001b[1;33m\u001b[0m\u001b[0m\n\u001b[0;32m      8\u001b[0m \u001b[0mtup1\u001b[0m\u001b[1;33m=\u001b[0m\u001b[1;33m(\u001b[0m\u001b[1;36m1\u001b[0m\u001b[1;33m,\u001b[0m\u001b[1;36m2\u001b[0m\u001b[1;33m,\u001b[0m\u001b[1;36m3\u001b[0m\u001b[1;33m,\u001b[0m\u001b[1;36m4\u001b[0m\u001b[1;33m)\u001b[0m\u001b[1;33m\u001b[0m\u001b[1;33m\u001b[0m\u001b[0m\n\u001b[1;32m----> 9\u001b[1;33m \u001b[0mtup1\u001b[0m\u001b[1;33m.\u001b[0m\u001b[0mappend\u001b[0m\u001b[1;33m(\u001b[0m\u001b[1;36m5\u001b[0m\u001b[1;33m)\u001b[0m\u001b[1;33m\u001b[0m\u001b[1;33m\u001b[0m\u001b[0m\n\u001b[0m\u001b[0;32m     10\u001b[0m \u001b[0mprint\u001b[0m\u001b[1;33m(\u001b[0m\u001b[0mtup1\u001b[0m\u001b[1;33m)\u001b[0m\u001b[1;33m\u001b[0m\u001b[1;33m\u001b[0m\u001b[0m\n",
      "\u001b[1;31mAttributeError\u001b[0m: 'tuple' object has no attribute 'append'"
     ]
    }
   ],
   "source": [
    "#Ordered\n",
    "print(tup1[1])\n",
    "print(tup1[3])\n",
    "#Heterogenous and Duplicates\n",
    "tup1=(1,'var',True,{},1.01,[1,2],1)\n",
    "print(tup1)\n",
    "#Immutable\n",
    "tup1=(1,2,3,4)\n",
    "tup1.append(5)\n",
    "print(tup1)#gives error because tuple object has no attribute 'append'"
   ]
  },
  {
   "cell_type": "code",
   "execution_count": 9,
   "id": "ba7977a5",
   "metadata": {},
   "outputs": [
    {
     "name": "stdout",
     "output_type": "stream",
     "text": [
      "<class 'str'>\n",
      "<class 'tuple'>\n"
     ]
    }
   ],
   "source": [
    "#without comma, type\n",
    "tup1=('hello')\n",
    "print(type(tup1))\n",
    "#with comma, type\n",
    "tup1=('hello',)\n",
    "print(type(tup1))"
   ]
  },
  {
   "cell_type": "code",
   "execution_count": 10,
   "id": "48a3f9cb",
   "metadata": {},
   "outputs": [
    {
     "name": "stdout",
     "output_type": "stream",
     "text": [
      "4\n"
     ]
    }
   ],
   "source": [
    "tup1=(1,2,3,4)\n",
    "print(len(tup1))"
   ]
  },
  {
   "cell_type": "code",
   "execution_count": 18,
   "id": "48cc1d09",
   "metadata": {},
   "outputs": [
    {
     "name": "stdout",
     "output_type": "stream",
     "text": [
      "(1, 2, 3, 4, 5, 6, 7, 8)\n",
      "(1, 2, 3, 4, 5, 6, 7, 8, 9)\n"
     ]
    }
   ],
   "source": [
    "'''since tuple are immutable,to make changes in them we need to \n",
    "convert them to list'''\n",
    "tup2=(1,2,3,4,5,6,7,8)\n",
    "print(tup2)\n",
    "tup2=list(tup2)#converted tuple to list\n",
    "tup2.append(9)\n",
    "print(tuple(tup2))#converted list to tuple"
   ]
  },
  {
   "cell_type": "code",
   "execution_count": 19,
   "id": "76cced54",
   "metadata": {},
   "outputs": [
    {
     "name": "stdout",
     "output_type": "stream",
     "text": [
      "(1, 2, 3, 4, 5, 6, 7, 8)\n",
      "(1, 2, 3, 4, 5, 6, 7, 8, 9, 'Ten')\n"
     ]
    }
   ],
   "source": [
    "tup2=(1,2,3,4,5,6,7,8)\n",
    "print(tup2)\n",
    "tup2=list(tup2)\n",
    "tup2.extend([9,'Ten'])#extended the list\n",
    "print(tuple(tup2))#prints the list as tuple"
   ]
  },
  {
   "cell_type": "code",
   "execution_count": 23,
   "id": "161d582f",
   "metadata": {},
   "outputs": [
    {
     "name": "stdout",
     "output_type": "stream",
     "text": [
      "[1, 2, 3, 4, 5, 6, 7]\n",
      "()\n"
     ]
    }
   ],
   "source": [
    "#Removing items from tuple\n",
    "tup2=(1,2,3,4,5,6,7,8)\n",
    "tup2=list(tup2)\n",
    "tup2.remove(8)#removed an item from the list\n",
    "print(tup2)\n",
    "tup2.clear()#cleared the list\n",
    "print(tuple(tup2))#printed list as tuple"
   ]
  },
  {
   "cell_type": "code",
   "execution_count": 29,
   "id": "ac695606",
   "metadata": {},
   "outputs": [
    {
     "data": {
      "text/plain": [
       "3"
      ]
     },
     "execution_count": 29,
     "metadata": {},
     "output_type": "execute_result"
    }
   ],
   "source": [
    "tup2=(1,2,3,4,4,4,5,6,7,8)\n",
    "tup2.count(4)"
   ]
  },
  {
   "cell_type": "code",
   "execution_count": 30,
   "id": "d39b10b8",
   "metadata": {},
   "outputs": [
    {
     "ename": "NameError",
     "evalue": "name 'tup2' is not defined",
     "output_type": "error",
     "traceback": [
      "\u001b[1;31m---------------------------------------------------------------------------\u001b[0m",
      "\u001b[1;31mNameError\u001b[0m                                 Traceback (most recent call last)",
      "\u001b[1;32mC:\\Users\\PRATHA~1.SAR\\AppData\\Local\\Temp/ipykernel_15292/3727832171.py\u001b[0m in \u001b[0;36m<module>\u001b[1;34m\u001b[0m\n\u001b[0;32m      1\u001b[0m \u001b[1;32mdel\u001b[0m \u001b[0mtup2\u001b[0m\u001b[1;33m\u001b[0m\u001b[1;33m\u001b[0m\u001b[0m\n\u001b[1;32m----> 2\u001b[1;33m \u001b[0mprint\u001b[0m\u001b[1;33m(\u001b[0m\u001b[0mtup2\u001b[0m\u001b[1;33m)\u001b[0m\u001b[1;33m\u001b[0m\u001b[1;33m\u001b[0m\u001b[0m\n\u001b[0m",
      "\u001b[1;31mNameError\u001b[0m: name 'tup2' is not defined"
     ]
    }
   ],
   "source": [
    "del tup2\n",
    "print(tup2)"
   ]
  },
  {
   "cell_type": "code",
   "execution_count": 34,
   "id": "3934546b",
   "metadata": {},
   "outputs": [
    {
     "name": "stdout",
     "output_type": "stream",
     "text": [
      "(1, 2, 3, 4, 6, 7, 8, 9)\n"
     ]
    }
   ],
   "source": [
    "tup1=(1,2,3,4)\n",
    "tup2=(6,7,8,9)\n",
    "tup3=tup1+tup2\n",
    "print(tup3)"
   ]
  },
  {
   "cell_type": "code",
   "execution_count": 36,
   "id": "268e40f6",
   "metadata": {},
   "outputs": [
    {
     "name": "stdout",
     "output_type": "stream",
     "text": [
      "(1, 2, 3, 4, 6, 7, 8, 9)\n"
     ]
    }
   ],
   "source": [
    "tup4=sum((tup1,tup2),())\n",
    "print(tup4)"
   ]
  },
  {
   "cell_type": "code",
   "execution_count": 37,
   "id": "1bfd5618",
   "metadata": {},
   "outputs": [
    {
     "name": "stdout",
     "output_type": "stream",
     "text": [
      "9\n",
      "1\n"
     ]
    }
   ],
   "source": [
    "print(max(tup4))\n",
    "print(min(tup4))"
   ]
  },
  {
   "cell_type": "code",
   "execution_count": 42,
   "id": "f9c17cec",
   "metadata": {},
   "outputs": [
    {
     "name": "stdout",
     "output_type": "stream",
     "text": [
      "Raman\n",
      "Ram\n"
     ]
    }
   ],
   "source": [
    "tup4=('Raman','Ram','Ramaiya')\n",
    "print(max(tup4))\n",
    "print(min(tup4))"
   ]
  }
 ],
 "metadata": {
  "kernelspec": {
   "display_name": "Python 3 (ipykernel)",
   "language": "python",
   "name": "python3"
  },
  "language_info": {
   "codemirror_mode": {
    "name": "ipython",
    "version": 3
   },
   "file_extension": ".py",
   "mimetype": "text/x-python",
   "name": "python",
   "nbconvert_exporter": "python",
   "pygments_lexer": "ipython3",
   "version": "3.9.7"
  }
 },
 "nbformat": 4,
 "nbformat_minor": 5
}
