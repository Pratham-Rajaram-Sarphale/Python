{
 "cells": [
  {
   "cell_type": "code",
   "execution_count": null,
   "id": "c1e8e57f",
   "metadata": {},
   "outputs": [],
   "source": [
    "#Addition\n",
    "x = 10\n",
    "y = 40\n",
    "print(x + y)"
   ]
  },
  {
   "cell_type": "code",
   "execution_count": null,
   "id": "5a4e189b",
   "metadata": {},
   "outputs": [],
   "source": [
    "#Subtraction\n",
    "x = 10\n",
    "y = 40\n",
    "print(y - x)"
   ]
  },
  {
   "cell_type": "code",
   "execution_count": null,
   "id": "fd6cf3ba",
   "metadata": {},
   "outputs": [],
   "source": [
    "#Multiplication\n",
    "x = 2\n",
    "y = 4\n",
    "print(x * y)"
   ]
  },
  {
   "cell_type": "code",
   "execution_count": null,
   "id": "e7e2a6aa",
   "metadata": {},
   "outputs": [],
   "source": [
    "#Division\n",
    "x = 2\n",
    "y = 4\n",
    "print(y / x)"
   ]
  },
  {
   "cell_type": "code",
   "execution_count": null,
   "id": "4f339b7b",
   "metadata": {},
   "outputs": [],
   "source": [
    "'''Floor Division(It returns the quotient (the result of division) \n",
    "in which the digits after the decimal are excluded''' \n",
    "x = 2.2\n",
    "y = 4\n",
    "# normal division\n",
    "print(y / x)\n",
    "#floor division\n",
    "print(y // x)"
   ]
  },
  {
   "cell_type": "code",
   "execution_count": null,
   "id": "5dc09149",
   "metadata": {},
   "outputs": [],
   "source": [
    "#Modulus(The remainder of the division)\n",
    "x = 15\n",
    "y = 4\n",
    "print(x % y)"
   ]
  },
  {
   "cell_type": "code",
   "execution_count": null,
   "id": "599dfe90",
   "metadata": {},
   "outputs": [],
   "source": [
    "#Exponent(power of a number)\n",
    "num = 2\n",
    "# 2*2\n",
    "print(num ** 2) "
   ]
  },
  {
   "cell_type": "code",
   "execution_count": null,
   "id": "9cbdf58d",
   "metadata": {},
   "outputs": [],
   "source": [
    "num1 = 3\n",
    "# 3*3\n",
    "print(num1 ** 2)"
   ]
  },
  {
   "cell_type": "code",
   "execution_count": null,
   "id": "5362361d",
   "metadata": {},
   "outputs": [],
   "source": [
    "x = 10\n",
    "y = 5\n",
    "print(x > y)\n",
    "print(x < y)"
   ]
  },
  {
   "cell_type": "code",
   "execution_count": null,
   "id": "46b145fa",
   "metadata": {},
   "outputs": [],
   "source": [
    "print(x == y) \n",
    "print(x == 10)"
   ]
  },
  {
   "cell_type": "code",
   "execution_count": null,
   "id": "572eb76f",
   "metadata": {},
   "outputs": [],
   "source": [
    "print(x != y) \n",
    "print(10 != x)"
   ]
  },
  {
   "cell_type": "code",
   "execution_count": null,
   "id": "2f9a50db",
   "metadata": {},
   "outputs": [],
   "source": [
    "print(x >= y) \n",
    "print(10 >= x)"
   ]
  },
  {
   "cell_type": "code",
   "execution_count": null,
   "id": "5a798b1a",
   "metadata": {},
   "outputs": [],
   "source": [
    "print(x <= y) \n",
    "print(10 <= x)"
   ]
  },
  {
   "cell_type": "code",
   "execution_count": null,
   "id": "0aed50aa",
   "metadata": {},
   "outputs": [],
   "source": [
    "a = 4\n",
    "b = 2\n",
    "a += b\n",
    "print(a)"
   ]
  },
  {
   "cell_type": "code",
   "execution_count": null,
   "id": "e5f84681",
   "metadata": {},
   "outputs": [],
   "source": [
    "a = 4\n",
    "a -= 2\n",
    "print(a)"
   ]
  },
  {
   "cell_type": "code",
   "execution_count": null,
   "id": "e4ee3df0",
   "metadata": {},
   "outputs": [],
   "source": [
    "a = 4\n",
    "a *= 2\n",
    "print(a)"
   ]
  },
  {
   "cell_type": "code",
   "execution_count": null,
   "id": "8ae95076",
   "metadata": {},
   "outputs": [],
   "source": [
    "a = 4\n",
    "a /= 2\n",
    "print(a)"
   ]
  },
  {
   "cell_type": "code",
   "execution_count": null,
   "id": "dc739b65",
   "metadata": {},
   "outputs": [],
   "source": [
    "a = 4\n",
    "a **= 2\n",
    "print(a)"
   ]
  },
  {
   "cell_type": "code",
   "execution_count": null,
   "id": "97337922",
   "metadata": {},
   "outputs": [],
   "source": [
    "a = 5\n",
    "a %= 2\n",
    "print(a) "
   ]
  },
  {
   "cell_type": "code",
   "execution_count": null,
   "id": "8f5a6f9c",
   "metadata": {},
   "outputs": [],
   "source": [
    "a = 4\n",
    "a //= 2\n",
    "print(a)"
   ]
  },
  {
   "cell_type": "code",
   "execution_count": null,
   "id": "6239e14f",
   "metadata": {},
   "outputs": [],
   "source": [
    "#logical operator\n",
    "x = 5\n",
    "print(x > 3 and x < 10)"
   ]
  },
  {
   "cell_type": "code",
   "execution_count": null,
   "id": "1e44fe2d",
   "metadata": {},
   "outputs": [],
   "source": [
    "#In the case of arithmetic values, Logical and always returns the second value\n",
    "print(10 and 20) \n",
    "print(10 and 5) \n",
    "print(100 and 300) "
   ]
  },
  {
   "cell_type": "code",
   "execution_count": null,
   "id": "dea29a5b",
   "metadata": {},
   "outputs": [],
   "source": [
    "x = 5\n",
    "print(x > 3 or x < 4)"
   ]
  },
  {
   "cell_type": "code",
   "execution_count": null,
   "id": "863a5364",
   "metadata": {},
   "outputs": [],
   "source": [
    "#In the case of arithmetic values, Logical or it always returns the first value\n",
    "print(10 or 20) \n",
    "print(10 or 5) \n",
    "print(100 or 300) "
   ]
  },
  {
   "cell_type": "code",
   "execution_count": null,
   "id": "7a52a41b",
   "metadata": {},
   "outputs": [],
   "source": [
    "x = 5\n",
    "print(not(x > 3))"
   ]
  },
  {
   "cell_type": "code",
   "execution_count": null,
   "id": "d771dd7d",
   "metadata": {},
   "outputs": [],
   "source": [
    "#In the case of arithmetic values, Logical not always return False for nonzero value.\n",
    "print(not 10) # False. Non-zero value\n",
    "print(not 0) # True. Non-zero value"
   ]
  },
  {
   "cell_type": "code",
   "execution_count": null,
   "id": "f569be7d",
   "metadata": {},
   "outputs": [],
   "source": [
    "#membership operator\n",
    "x = [\"apple\", \"banana\"]\n",
    "print(\"banana\" in x)"
   ]
  },
  {
   "cell_type": "code",
   "execution_count": null,
   "id": "cfeb63ec",
   "metadata": {},
   "outputs": [],
   "source": [
    "x = [\"apple\", \"banana\"]\n",
    "print(\"pineapple\" not in x)"
   ]
  },
  {
   "cell_type": "code",
   "execution_count": null,
   "id": "b5576f42",
   "metadata": {},
   "outputs": [],
   "source": [
    "#This operator returns Boolean True or False.(identity operator)\n",
    "x = 10\n",
    "y = 11\n",
    "z = 10\n",
    "print(x is y) # it compare memory address of x and y \n",
    "print(x is z) # it compare memory address of x and z"
   ]
  },
  {
   "cell_type": "code",
   "execution_count": null,
   "id": "35279644",
   "metadata": {},
   "outputs": [],
   "source": [
    "x = 10\n",
    "y = 11\n",
    "z = 10\n",
    "print(x is not y) # it campare memory address of x and y \n",
    "print(x is not z) # it campare memory address of x and z"
   ]
  },
  {
   "cell_type": "code",
   "execution_count": null,
   "id": "bd8bc645",
   "metadata": {},
   "outputs": [],
   "source": [
    "#Bitwise operator AND\n",
    "a = 7\n",
    "b = 4\n",
    "c = 5\n",
    "print(a & b)\n",
    "print(a & c)\n",
    "print(b & c)"
   ]
  },
  {
   "cell_type": "code",
   "execution_count": null,
   "id": "b9ea1baf",
   "metadata": {},
   "outputs": [],
   "source": [
    "#OR\n",
    "a = 7\n",
    "b = 4\n",
    "c = 5\n",
    "print(a | b)\n",
    "print(a | c)\n",
    "print(b | c)"
   ]
  },
  {
   "cell_type": "code",
   "execution_count": null,
   "id": "dc53ad9f",
   "metadata": {},
   "outputs": [],
   "source": [
    "#XOR\n",
    "a = 7\n",
    "b = 4\n",
    "c = 5\n",
    "print(a ^ c)\n",
    "print(b ^ c)"
   ]
  }
 ],
 "metadata": {
  "kernelspec": {
   "display_name": "Python 3 (ipykernel)",
   "language": "python",
   "name": "python3"
  },
  "language_info": {
   "codemirror_mode": {
    "name": "ipython",
    "version": 3
   },
   "file_extension": ".py",
   "mimetype": "text/x-python",
   "name": "python",
   "nbconvert_exporter": "python",
   "pygments_lexer": "ipython3",
   "version": "3.9.7"
  }
 },
 "nbformat": 4,
 "nbformat_minor": 5
}
