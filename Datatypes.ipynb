{
 "cells": [
  {
   "cell_type": "code",
   "execution_count": 1,
   "id": "51db20bf",
   "metadata": {},
   "outputs": [
    {
     "name": "stdout",
     "output_type": "stream",
     "text": [
      "<class 'int'>\n"
     ]
    }
   ],
   "source": [
    "#we can use type function to get the type information of a value.\n",
    "a=10\n",
    "print(type(a))"
   ]
  },
  {
   "cell_type": "code",
   "execution_count": 2,
   "id": "dfd2dd1f",
   "metadata": {},
   "outputs": [
    {
     "name": "stdout",
     "output_type": "stream",
     "text": [
      "<class 'float'>\n"
     ]
    }
   ],
   "source": [
    "b=10.0\n",
    "print(type(b))"
   ]
  },
  {
   "cell_type": "code",
   "execution_count": 3,
   "id": "5cd21735",
   "metadata": {},
   "outputs": [
    {
     "name": "stdout",
     "output_type": "stream",
     "text": [
      "<class 'complex'>\n"
     ]
    }
   ],
   "source": [
    "c=1+10j\n",
    "print(type(c))"
   ]
  },
  {
   "cell_type": "code",
   "execution_count": 4,
   "id": "fba90181",
   "metadata": {},
   "outputs": [
    {
     "data": {
      "text/plain": [
       "str"
      ]
     },
     "execution_count": 4,
     "metadata": {},
     "output_type": "execute_result"
    }
   ],
   "source": [
    "var = \"a warm Welcome to python\"\n",
    "type(var)"
   ]
  },
  {
   "cell_type": "code",
   "execution_count": 5,
   "id": "f521d525",
   "metadata": {},
   "outputs": [
    {
     "data": {
      "text/plain": [
       "list"
      ]
     },
     "execution_count": 5,
     "metadata": {},
     "output_type": "execute_result"
    }
   ],
   "source": [
    "#The Python List is an ordered collection (also known as a sequence ) of elements.\n",
    "List = [\"apple\", \"banana\", \"cherry\"]\n",
    "type(List)"
   ]
  },
  {
   "cell_type": "code",
   "execution_count": 6,
   "id": "4129825d",
   "metadata": {},
   "outputs": [
    {
     "name": "stdout",
     "output_type": "stream",
     "text": [
      "<class 'tuple'>\n"
     ]
    }
   ],
   "source": [
    "#Tuples are ordered collections of elements that are unchangeable.\n",
    "Tuple = (\"apple\", \"banana\", \"cherry\")\n",
    "print(type(Tuple))"
   ]
  },
  {
   "cell_type": "code",
   "execution_count": 7,
   "id": "1b60c31a",
   "metadata": {},
   "outputs": [
    {
     "data": {
      "text/plain": [
       "set"
      ]
     },
     "execution_count": 7,
     "metadata": {},
     "output_type": "execute_result"
    }
   ],
   "source": [
    "#a set is an unordered collection of data items that are unique.\n",
    "Set = {\"apple\", \"banana\", \"cherry\"}\n",
    "type(Set)"
   ]
  },
  {
   "cell_type": "code",
   "execution_count": 8,
   "id": "6fa3ae41",
   "metadata": {},
   "outputs": [
    {
     "name": "stdout",
     "output_type": "stream",
     "text": [
      "<class 'dict'>\n"
     ]
    }
   ],
   "source": [
    "#dictionaries are unordered collections of unique values stored in (Key-Value) pairs. \n",
    "Dictionary = {\"Name\":\"Pratham\"}\n",
    "print(type(Dictionary))"
   ]
  },
  {
   "cell_type": "code",
   "execution_count": 9,
   "id": "b2c163c9",
   "metadata": {},
   "outputs": [
    {
     "name": "stdout",
     "output_type": "stream",
     "text": [
      "<class 'dict'>\n"
     ]
    }
   ],
   "source": [
    "#dictionaries are unordered collections of unique values stored in (Key-Value) pairs. \n",
    "Dictionary = {\"Name\":\"Pratham\"}\n",
    "print(type(Dictionary))"
   ]
  },
  {
   "cell_type": "code",
   "execution_count": 10,
   "id": "6bff4a07",
   "metadata": {},
   "outputs": [
    {
     "name": "stdout",
     "output_type": "stream",
     "text": [
      "True\n"
     ]
    }
   ],
   "source": [
    "#to represent boolean values (True and False) we use the bool data type.\n",
    "print(20>10)"
   ]
  },
  {
   "cell_type": "code",
   "execution_count": 11,
   "id": "638a4d83",
   "metadata": {},
   "outputs": [
    {
     "name": "stdout",
     "output_type": "stream",
     "text": [
      "True\n",
      "<class 'bool'>\n"
     ]
    }
   ],
   "source": [
    "x = 25\n",
    "y = 20\n",
    "z = x > y\n",
    "print(z) \n",
    "print(type(z)) "
   ]
  },
  {
   "cell_type": "code",
   "execution_count": 12,
   "id": "62824cc8",
   "metadata": {},
   "outputs": [
    {
     "name": "stdout",
     "output_type": "stream",
     "text": [
      "<class 'range'>\n"
     ]
    }
   ],
   "source": [
    "#The built-in function range() used to generate a sequence of numbers from a start number \n",
    "numbers = range(10, 15, 1)\n",
    "print(type(numbers))"
   ]
  },
  {
   "cell_type": "code",
   "execution_count": 13,
   "id": "ed13236a",
   "metadata": {},
   "outputs": [
    {
     "name": "stdout",
     "output_type": "stream",
     "text": [
      "<class 'range'>\n"
     ]
    }
   ],
   "source": [
    "numbers = range(10, 15, 2)\n",
    "print(type(numbers))"
   ]
  }
 ],
 "metadata": {
  "kernelspec": {
   "display_name": "Python 3 (ipykernel)",
   "language": "python",
   "name": "python3"
  },
  "language_info": {
   "codemirror_mode": {
    "name": "ipython",
    "version": 3
   },
   "file_extension": ".py",
   "mimetype": "text/x-python",
   "name": "python",
   "nbconvert_exporter": "python",
   "pygments_lexer": "ipython3",
   "version": "3.9.7"
  }
 },
 "nbformat": 4,
 "nbformat_minor": 5
}
